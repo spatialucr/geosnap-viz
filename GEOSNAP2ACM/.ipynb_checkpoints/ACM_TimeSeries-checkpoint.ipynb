{
 "cells": [
  {
   "cell_type": "code",
   "execution_count": 1,
   "metadata": {},
   "outputs": [],
   "source": [
    "from geosnap.data import store_ltdb\n",
    "from geosnap.data import Community\n",
    "from geosnap.data import store_census\n",
    "from geosnap.data import data_store\n",
    "import pandas as pd\n",
    "from GEOSNAP2ACM import Adaptive_Choropleth_Mapper_viz\n",
    "from GEOSNAP2ACM import Adaptive_Choropleth_Mapper_log"
   ]
  },
  {
   "cell_type": "code",
   "execution_count": 2,
   "metadata": {},
   "outputs": [],
   "source": [
    "#sample = \"downloads/LTDB_Std_All_Sample.zip\"\n",
    "#full = \"downloads/LTDB_Std_All_fullcount.zip\"\n",
    "#store_ltdb(sample=sample, fullcount=full)\n",
    "#store_census()"
   ]
  },
  {
   "cell_type": "code",
   "execution_count": 3,
   "metadata": {},
   "outputs": [
    {
     "name": "stdout",
     "output_type": "stream",
     "text": [
      "Please run \"ACM_LA/index.html\" to your web browser.\n",
      "Advanced options are available in \"ACM_LA/data/GEO_CONFIG.js\"\n"
     ]
    }
   ],
   "source": [
    "# LA 31080, San Diego 41740, Albertville 10700, NY 35620\n",
    "param = {\n",
    "        'title': \"Adaptive Choropleth Mapper\",\n",
    "        'filename_suffix': \"LA\",\n",
    "        'state_fips': None,\n",
    "        'msa_fips': \"31080\",\n",
    "        'county_fips': None,\n",
    "        'years': [1980, 1990, 2000, 2010],\n",
    "        'variable': \"p_nonhisp_white_persons\",\n",
    "        'chart': \"Parallel Coordinates Plot\",\n",
    "        'label': \"short_name\",                                       # variable, short_name or full_name\n",
    "}\n",
    "Adaptive_Choropleth_Mapper_viz(param)"
   ]
  },
  {
   "cell_type": "code",
   "execution_count": 4,
   "metadata": {},
   "outputs": [],
   "source": [
    "Adaptive_Choropleth_Mapper_log()"
   ]
  }
 ],
 "metadata": {
  "kernelspec": {
   "display_name": "Python 3",
   "language": "python",
   "name": "python3"
  },
  "language_info": {
   "codemirror_mode": {
    "name": "ipython",
    "version": 3
   },
   "file_extension": ".py",
   "mimetype": "text/x-python",
   "name": "python",
   "nbconvert_exporter": "python",
   "pygments_lexer": "ipython3",
   "version": "3.7.3"
  }
 },
 "nbformat": 4,
 "nbformat_minor": 2
}
